{
  "nbformat": 4,
  "nbformat_minor": 0,
  "metadata": {
    "kernelspec": {
      "display_name": "Python [conda env:py36]",
      "language": "python",
      "name": "conda-env-py36-py"
    },
    "language_info": {
      "codemirror_mode": {
        "name": "ipython",
        "version": 3
      },
      "file_extension": ".py",
      "mimetype": "text/x-python",
      "name": "python",
      "nbconvert_exporter": "python",
      "pygments_lexer": "ipython3",
      "version": "3.6.5"
    },
    "toc": {
      "nav_menu": {
        "height": "48px",
        "width": "252px"
      },
      "navigate_menu": true,
      "number_sections": true,
      "sideBar": true,
      "threshold": 4,
      "toc_cell": false,
      "toc_section_display": "block",
      "toc_window_display": false
    },
    "colab": {
      "name": "correlation_timeseries.ipynb",
      "provenance": [],
      "private_outputs": true,
      "collapsed_sections": [],
      "toc_visible": true
    }
  },
  "cells": [
    {
      "cell_type": "markdown",
      "metadata": {
        "id": "sB2Nl3MR4fgz",
        "colab_type": "text"
      },
      "source": [
        "# COVID-19 for correlation time series in Castilla la Mancha #\n",
        "Notebook realizado para la asignatura Desarrollo de Sistemas Inteligentes, del Máster en Ingeniería Informática de la Universidad de Castilla la Mancha.\n",
        "En dicho Notebook se aplicarán técnicas de correlación de series temporales empleando Pearson y DTW (Dynamic Time Warping, enfocado a la investigación del COVID-19, causada por el virus SARS-CoV-2, sobre la población de Castilla la Mancha, y más específicamente sobre los hospitales de la región.\n",
        "\n",
        "Al aplicar técnicas de correlación, podremos detectar posibles brotes dentro de una provincia, o si aumenta/disminuye el índice de mortalidad si comparamos las variables de casos detectados y fallecidos, por ejemplo.\n",
        "\n",
        "Realizado por:\n",
        "*   Miguel de la Cal Bravo\n",
        "*   Félix Ángel Martínez Muela"
      ]
    },
    {
      "cell_type": "markdown",
      "metadata": {
        "id": "abjFmoyX7AMr",
        "colab_type": "text"
      },
      "source": [
        "## Librerías y dependencias necesarias ##"
      ]
    },
    {
      "cell_type": "markdown",
      "metadata": {
        "id": "aV6fD2GP6tB0",
        "colab_type": "text"
      },
      "source": [
        "En primer lugar, importaremos todas aquellas librerías y dependencias necesarias del proyecto.\n",
        "Entre ellas podemos destacar algunas muy conocidas como son Pandas, Numpy, Plot/Plotly, etc."
      ]
    },
    {
      "cell_type": "code",
      "metadata": {
        "id": "d-nrGfYY-k1G",
        "colab_type": "code",
        "colab": {}
      },
      "source": [
        "import pandas as pd\n",
        "from matplotlib import pyplot as plt\n",
        "import numpy as np\n",
        "\n",
        "!pip install pmdarima\n",
        "!pip install statsmodels --upgrade"
      ],
      "execution_count": 0,
      "outputs": []
    },
    {
      "cell_type": "code",
      "metadata": {
        "id": "ZebR19De-29C",
        "colab_type": "code",
        "colab": {}
      },
      "source": [
        "from google.colab import files\n",
        "uploaded = files.upload()"
      ],
      "execution_count": 0,
      "outputs": []
    },
    {
      "cell_type": "code",
      "metadata": {
        "id": "k1gSE7mm-3db",
        "colab_type": "code",
        "colab": {}
      },
      "source": [
        "df = pd.read_csv('fallecidos.csv',encoding = \"ISO-8859-1\", index_col=0, header=None).T  # Lectura del fichero de entrada y transpuesta del mismo\n",
        "df = df.rename(columns={'Fecha': 'Date'}) # Ajuste del nombre de las columnas\n",
        "df['Date']= pd.to_datetime(df['Date']) # Conversión a tipo fecha\n",
        "df.set_index('Date', inplace=True) # La columna Fechas como índice\n",
        "df=df.apply(pd.to_numeric) # Hacer que los tipos de datos sean numéricos\n",
        "df = df.sort_values('Date') # Ordenar en función de la fecha\n",
        "df=df.interpolate('zero', fill_value=0, limit_direction='backward') # A 0 los primeros valores antes de un número\n",
        "df=df.interpolate(method='linear', axis=0).ffill().bfill() # Valores intermedios los interpolas\n",
        "df"
      ],
      "execution_count": 0,
      "outputs": []
    },
    {
      "cell_type": "markdown",
      "metadata": {
        "id": "5akWPnMy6lj4",
        "colab_type": "text"
      },
      "source": [
        "## Pearson correlation ##\n",
        "A continuación, definimos la función para calcular el coeficiente de Pearson."
      ]
    },
    {
      "cell_type": "code",
      "metadata": {
        "ExecuteTime": {
          "end_time": "2019-05-13T13:50:59.452534Z",
          "start_time": "2019-05-13T13:50:59.200659Z"
        },
        "id": "mz5r_p159Bxu",
        "colab_type": "code",
        "colab": {}
      },
      "source": [
        "!pip install dtw\n",
        "import pandas as pd\n",
        "import numpy as np\n",
        "%matplotlib inline\n",
        "import matplotlib.pyplot as plt\n",
        "import seaborn as sns\n",
        "import scipy.stats as stats\n",
        "sns.set_context('talk',font_scale=.8)\n",
        "\n",
        "def pearson(df, col1,col2,do_print):\n",
        "  overall_pearson_r = df.corr().iloc[df.columns.get_loc(col1),df.columns.get_loc(col2)]\n",
        "  # Si quiesiéramos imprimir las gráficas, pondríamos la variable do_print a true\n",
        "  if do_print==True:\n",
        "    print(f\"Pandas computed Pearson r: {overall_pearson_r}\")\n",
        "    f,ax=plt.subplots(figsize=(14,3))\n",
        "    df.rolling(window=30,center=True).median().plot(ax=ax)\n",
        "    ax.set(xlabel='Frame',ylabel='Smiling evidence',title=f\"Overall Pearson r = {np.round(overall_pearson_r,2)}\");\n",
        "  \n",
        "    # Set window size to compute moving window synchrony.\n",
        "    r_window_size = 120\n",
        "    # Compute rolling window synchrony\n",
        "    rolling_r = df[col1].rolling(window=r_window_size, center=True).corr(df[col2])\n",
        "    f,ax=plt.subplots(2,1,figsize=(14,6),sharex=True)\n",
        "    df.rolling(window=30,center=True).median().plot(ax=ax[0])\n",
        "    ax[0].set(xlabel='Fecha',ylabel='Hospitalizados')\n",
        "    rolling_r.plot(ax=ax[1])\n",
        "    ax[1].set(xlabel='Fecha',ylabel='Hospitalizados')\n",
        "    plt.suptitle(\"Smiling data and rolling window correlation\")\n",
        "  return overall_pearson_r"
      ],
      "execution_count": 0,
      "outputs": []
    },
    {
      "cell_type": "markdown",
      "metadata": {
        "id": "x_Dfjdy69ByP",
        "colab_type": "text"
      },
      "source": [
        "## Dynamic Time Warping ##\n",
        "A continuación, definimos la función correspondiente al cálculo de DTW, más conocido como Dynamic Time Warping"
      ]
    },
    {
      "cell_type": "code",
      "metadata": {
        "ExecuteTime": {
          "end_time": "2019-05-13T06:44:58.227558Z",
          "start_time": "2019-05-13T06:43:49.951453Z"
        },
        "id": "xpkAwF-29ByQ",
        "colab_type": "code",
        "colab": {}
      },
      "source": [
        "from dtw import dtw,accelerated_dtw\n",
        "def dynamicTime(df, col1, col2, do_print):\n",
        "  d1 = df[col1].values\n",
        "  d2 = df[col2].values\n",
        "  d, cost_matrix, acc_cost_matrix, path = accelerated_dtw(d1,d2, dist='euclidean')  \n",
        "  if do_print==True:\n",
        "    plt.imshow(acc_cost_matrix.T, origin='lower', cmap='gray', interpolation='nearest')\n",
        "    plt.plot(path[0], path[1], 'w')\n",
        "    plt.xlabel('Subject1')\n",
        "    plt.ylabel('Subject2')\n",
        "    plt.title('DTW Minimum Path')\n",
        "    plt.show()\n",
        "  return d"
      ],
      "execution_count": 0,
      "outputs": []
    },
    {
      "cell_type": "markdown",
      "metadata": {
        "id": "lGkMsv_kABRm",
        "colab_type": "text"
      },
      "source": [
        "**Pearson Coefficient**\n"
      ]
    },
    {
      "cell_type": "code",
      "metadata": {
        "id": "031whf5pAF42",
        "colab_type": "code",
        "colab": {}
      },
      "source": [
        "pearson_dict = dict(pearson_value=0)\n",
        "for i in df.columns:\n",
        "  for j in df.columns:\n",
        "    if(i!=j):\n",
        "      pearson_val = pearson(df,i,j,False)\n",
        "      pearson_val= np.abs(pearson_val)\n",
        "      if(pearson_dict['pearson_value'] < pearson_val):\n",
        "        pearson_dict= dict(pearson_value=pearson_val, i_value=i, j_value=j)\n",
        "      \n",
        "print(pearson_dict)"
      ],
      "execution_count": 0,
      "outputs": []
    },
    {
      "cell_type": "markdown",
      "metadata": {
        "id": "VTKarqTCzS9I",
        "colab_type": "text"
      },
      "source": [
        "**Dynamic Time Warping**"
      ]
    },
    {
      "cell_type": "code",
      "metadata": {
        "id": "4JXG5MRdxIBm",
        "colab_type": "code",
        "colab": {}
      },
      "source": [
        "dtw_dict=dict(dtw_value=0)\n",
        "for i in df.columns:\n",
        "  for j in df.columns:\n",
        "    if(i!=j):\n",
        "      dtw_val = dynamicTime(df,i,j,False)\n",
        "      if(dtw_dict['dtw_value'] < dtw_val):\n",
        "        dtw_dict= dict(dtw_value=dtw_val, i_value=i, j_value=j)\n",
        "\n",
        "print(dtw_dict)"
      ],
      "execution_count": 0,
      "outputs": []
    }
  ]
}