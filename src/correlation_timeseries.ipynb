{
  "nbformat": 4,
  "nbformat_minor": 0,
  "metadata": {
    "kernelspec": {
      "display_name": "Python [conda env:py36]",
      "language": "python",
      "name": "conda-env-py36-py"
    },
    "language_info": {
      "codemirror_mode": {
        "name": "ipython",
        "version": 3
      },
      "file_extension": ".py",
      "mimetype": "text/x-python",
      "name": "python",
      "nbconvert_exporter": "python",
      "pygments_lexer": "ipython3",
      "version": "3.6.5"
    },
    "toc": {
      "nav_menu": {
        "height": "48px",
        "width": "252px"
      },
      "navigate_menu": true,
      "number_sections": true,
      "sideBar": true,
      "threshold": 4,
      "toc_cell": false,
      "toc_section_display": "block",
      "toc_window_display": false
    },
    "colab": {
      "name": "correlation_timeseries.ipynb",
      "provenance": [],
      "private_outputs": true,
      "toc_visible": true
    }
  },
  "cells": [
    {
      "cell_type": "markdown",
      "metadata": {
        "id": "CvqmrTtD9Bxr",
        "colab_type": "text"
      },
      "source": [
        "# Pearson correlation"
      ]
    },
    {
      "cell_type": "code",
      "metadata": {
        "id": "d-nrGfYY-k1G",
        "colab_type": "code",
        "colab": {}
      },
      "source": [
        "import pandas as pd\n",
        "from matplotlib import pyplot as plt\n",
        "import numpy as np\n",
        "\n",
        "!pip install pmdarima\n",
        "!pip install statsmodels --upgrade"
      ],
      "execution_count": 0,
      "outputs": []
    },
    {
      "cell_type": "code",
      "metadata": {
        "id": "ZebR19De-29C",
        "colab_type": "code",
        "colab": {}
      },
      "source": [
        "from google.colab import files\n",
        "#uploaded = files.upload()"
      ],
      "execution_count": 0,
      "outputs": []
    },
    {
      "cell_type": "code",
      "metadata": {
        "id": "k1gSE7mm-3db",
        "colab_type": "code",
        "colab": {}
      },
      "source": [
        "df = pd.read_csv('fallecidos.csv',encoding = \"ISO-8859-1\", index_col=0, header=None).T  # Lectura del fichero de entrada y transpuesta del mismo\n",
        "df = df.rename(columns={'Fecha': 'Date'}) # Ajuste del nombre de las columnas\n",
        "df['Date']= pd.to_datetime(df['Date']) # Conversión a tipo fecha\n",
        "df.set_index('Date', inplace=True) # La columna Fechas como índice\n",
        "df=df.apply(pd.to_numeric) # Hacer que los tipos de datos sean numéricos\n",
        "df = df.sort_values('Date') # Ordenar en función de la fecha\n",
        "df=df.interpolate('zero', fill_value=0, limit_direction='backward') # A 0 los primeros valores antes de un número\n",
        "df=df.interpolate(method='linear', axis=0).ffill().bfill() # Valores intermedios los interpolas\n",
        "df"
      ],
      "execution_count": 0,
      "outputs": []
    },
    {
      "cell_type": "code",
      "metadata": {
        "ExecuteTime": {
          "end_time": "2019-05-13T13:50:59.452534Z",
          "start_time": "2019-05-13T13:50:59.200659Z"
        },
        "id": "mz5r_p159Bxu",
        "colab_type": "code",
        "colab": {}
      },
      "source": [
        "!pip install dtw\n",
        "import pandas as pd\n",
        "import numpy as np\n",
        "%matplotlib inline\n",
        "import matplotlib.pyplot as plt\n",
        "import seaborn as sns\n",
        "import scipy.stats as stats\n",
        "sns.set_context('talk',font_scale=.8)\n",
        "\n",
        "def pearson(df, col1,col2,do_print):\n",
        "  overall_pearson_r = df.corr().iloc[df.columns.get_loc(col1),df.columns.get_loc(col2)]\n",
        "  #print(f\"Pandas computed Pearson r: {overall_pearson_r}\")\n",
        "\n",
        "  #r, p = stats.pearsonr(df.dropna()[col1], df.dropna()[col2])\n",
        "  #print(f\"Scipy computed Pearson r: {r} and p-value: {p}\")\n",
        "\n",
        "  if do_print==True:\n",
        "    f,ax=plt.subplots(figsize=(14,3))\n",
        "    df.rolling(window=30,center=True).median().plot(ax=ax)\n",
        "    ax.set(xlabel='Frame',ylabel='Smiling evidence',title=f\"Overall Pearson r = {np.round(overall_pearson_r,2)}\");\n",
        "  \n",
        "    # Set window size to compute moving window synchrony.\n",
        "    r_window_size = 120\n",
        "    # Interpolate missing data.\n",
        "    #df_interpolated = df.interpolate()\n",
        "    # Compute rolling window synchrony\n",
        "    rolling_r = df[col1].rolling(window=r_window_size, center=True).corr(df[col2])\n",
        "    f,ax=plt.subplots(2,1,figsize=(14,6),sharex=True)\n",
        "    df.rolling(window=30,center=True).median().plot(ax=ax[0])\n",
        "    ax[0].set(xlabel='Frame',ylabel='Smiling Evidence')\n",
        "    rolling_r.plot(ax=ax[1])\n",
        "    ax[1].set(xlabel='Frame',ylabel='Pearson r')\n",
        "    plt.suptitle(\"Smiling data and rolling window correlation\")\n",
        "  return overall_pearson_r"
      ],
      "execution_count": 0,
      "outputs": []
    },
    {
      "cell_type": "markdown",
      "metadata": {
        "id": "r41HsLK29ByA",
        "colab_type": "text"
      },
      "source": [
        "# Time Lagged Cross Correlation"
      ]
    },
    {
      "cell_type": "code",
      "metadata": {
        "ExecuteTime": {
          "end_time": "2019-05-13T06:29:13.689283Z",
          "start_time": "2019-05-13T06:29:13.350178Z"
        },
        "id": "tUFB6NbQ9ByB",
        "colab_type": "code",
        "colab": {}
      },
      "source": [
        "def crosscorr(datax, datay, lag=0, wrap=False):\n",
        "    \"\"\" Lag-N cross correlation. \n",
        "    Shifted data filled with NaNs \n",
        "    \n",
        "    Parameters\n",
        "    ----------\n",
        "    lag : int, default 0\n",
        "    datax, datay : pandas.Series objects of equal length\n",
        "\n",
        "    Returns\n",
        "    ----------\n",
        "    crosscorr : float\n",
        "    \"\"\"\n",
        "    if wrap:\n",
        "        shiftedy = datay.shift(lag)\n",
        "        shiftedy.iloc[:lag] = datay.iloc[-lag:].values\n",
        "        return datax.corr(shiftedy)\n",
        "    else: \n",
        "        return datax.corr(datay.shift(lag))\n",
        "def timeLagged(df,col1,col2, do_print):\n",
        "  d1 = df[col1]\n",
        "  d2 = df[col2]\n",
        "  seconds = 1\n",
        "  fps = 1\n",
        "  rs = [crosscorr(d1,d2, lag) for lag in range(-int(seconds*fps-1),int(seconds*fps))]\n",
        "  offset = np.ceil(len(rs)/2)-np.argmax(rs)\n",
        "  if do_print==True:\n",
        "    f,ax=plt.subplots(figsize=(14,3))\n",
        "    ax  .plot(rs)\n",
        "    ax.axvline(np.ceil(len(rs)/2),color='k',linestyle='--',label='Center')\n",
        "    ax.axvline(np.argmax(rs),color='r',linestyle='--',label='Peak synchrony')\n",
        "    ax.set(title=f'Offset = {offset} frames\\nS1 leads <> S2 leads',ylim=[.1,.31],xlim=[0,300], xlabel='Offset',ylabel='Pearson r')\n",
        "    ax.set_xticklabels([int(item-150) for item in ax.get_xticks()]);\n",
        "    plt.legend()"
      ],
      "execution_count": 0,
      "outputs": []
    },
    {
      "cell_type": "markdown",
      "metadata": {
        "id": "WKQnBt049ByH",
        "colab_type": "text"
      },
      "source": [
        "## Windowed time lagged cross correlation"
      ]
    },
    {
      "cell_type": "code",
      "metadata": {
        "ExecuteTime": {
          "end_time": "2019-05-13T06:38:07.085382Z",
          "start_time": "2019-05-13T06:37:47.697189Z"
        },
        "scrolled": false,
        "id": "2qMO8BBc9ByJ",
        "colab_type": "code",
        "colab": {}
      },
      "source": [
        "def windowed(df,col1,col2):\n",
        "  # Windowed time lagged cross correlation\n",
        "  seconds = 5\n",
        "  fps = 30\n",
        "  no_splits = 20\n",
        "  samples_per_split = df.shape[0]/no_splits\n",
        "  rss=[]\n",
        "  for t in range(0, no_splits):\n",
        "      d1 = df[col1].loc[(t)*samples_per_split:(t+1)*samples_per_split]\n",
        "      d2 = df[col2].loc[(t)*samples_per_split:(t+1)*samples_per_split]\n",
        "      rs = [crosscorr(d1,d2, lag) for lag in range(-int(seconds*fps-1),int(seconds*fps))]\n",
        "      rss.append(rs)\n",
        "  rss = pd.DataFrame(rss)\n",
        "  f,ax = plt.subplots(figsize=(10,5))\n",
        "  sns.heatmap(rss,cmap='RdBu_r',ax=ax)\n",
        "  ax.set(title=f'Windowed Time Lagged Cross Correlation',xlim=[0,300], xlabel='Offset',ylabel='Window epochs')\n",
        "  ax.set_xticklabels([int(item-150) for item in ax.get_xticks()]);\n",
        "\n",
        "  # Rolling window time lagged cross correlation\n",
        "  seconds = 5\n",
        "  fps = 10\n",
        "  window_size = 10 #samples\n",
        "  t_start = 0\n",
        "  t_end = t_start + window_size\n",
        "  step_size = 5\n",
        "  rss=[]\n",
        "  while t_end < len(df):\n",
        "      d1 = df[col1].iloc[t_start:t_end]\n",
        "      d2 = df[col2].iloc[t_start:t_end]\n",
        "      rs = [crosscorr(d1,d2, lag, wrap=False) for lag in range(-int(seconds*fps-1),int(seconds*fps))]\n",
        "      rss.append(rs)\n",
        "      t_start = t_start + step_size\n",
        "      t_end = t_end + step_size\n",
        "  rss = pd.DataFrame(rss)\n",
        "\n",
        "  f,ax = plt.subplots(figsize=(10,10))\n",
        "  sns.heatmap(rss,cmap='RdBu_r',ax=ax)\n",
        "  ax.set(title=f'Rolling Windowed Time Lagged Cross Correlation',xlim=[0,300], xlabel='Offset',ylabel='Epochs')\n",
        "  ax.set_xticklabels([int(item-150) for item in ax.get_xticks()]);"
      ],
      "execution_count": 0,
      "outputs": []
    },
    {
      "cell_type": "markdown",
      "metadata": {
        "id": "x_Dfjdy69ByP",
        "colab_type": "text"
      },
      "source": [
        "# Dynamic Time Warping"
      ]
    },
    {
      "cell_type": "code",
      "metadata": {
        "ExecuteTime": {
          "end_time": "2019-05-13T06:44:58.227558Z",
          "start_time": "2019-05-13T06:43:49.951453Z"
        },
        "id": "xpkAwF-29ByQ",
        "colab_type": "code",
        "colab": {}
      },
      "source": [
        "from dtw import dtw,accelerated_dtw\n",
        "def dinamicTime(df, col1, col2, do_print):\n",
        "  d1 = df[col1].values#.interpolate().values\n",
        "  d2 = df[col2].values#.interpolate().values\n",
        "  d, cost_matrix, acc_cost_matrix, path = accelerated_dtw(d1,d2, dist='euclidean')  \n",
        "  if do_print==True:\n",
        "    plt.imshow(acc_cost_matrix.T, origin='lower', cmap='gray', interpolation='nearest')\n",
        "    plt.plot(path[0], path[1], 'w')\n",
        "    plt.xlabel('Subject1')\n",
        "    plt.ylabel('Subject2')\n",
        "    plt.title('DTW Minimum Path')\n",
        "    plt.show()\n",
        "  return d"
      ],
      "execution_count": 0,
      "outputs": []
    },
    {
      "cell_type": "markdown",
      "metadata": {
        "id": "I6aCyFb99ByW",
        "colab_type": "text"
      },
      "source": [
        "The fact that signal is pulled towards Subject1 indicates that the signal from subject 2 is pulled towards subject1, indicating that subject 1 is the leader. "
      ]
    },
    {
      "cell_type": "markdown",
      "metadata": {
        "id": "uTu4UyK69ByZ",
        "colab_type": "text"
      },
      "source": [
        "# instantaneous phase synchrony"
      ]
    },
    {
      "cell_type": "code",
      "metadata": {
        "ExecuteTime": {
          "end_time": "2019-05-13T06:52:36.789624Z",
          "start_time": "2019-05-13T06:52:36.286522Z"
        },
        "id": "4GufamBR9Byc",
        "colab_type": "code",
        "colab": {}
      },
      "source": [
        "from scipy.signal import hilbert, butter, filtfilt\n",
        "from scipy.fftpack import fft,fftfreq,rfft,irfft,ifft\n",
        "import numpy as np\n",
        "import seaborn as sns\n",
        "import pandas as pd\n",
        "import scipy.stats as stats\n",
        "def butter_bandpass(lowcut, highcut, fs, order=5):\n",
        "    nyq = 0.5 * fs\n",
        "    low = lowcut / nyq\n",
        "    high = highcut / nyq\n",
        "    b, a = butter(order, [low, high], btype='band')\n",
        "    return b, a\n",
        "\n",
        "\n",
        "def butter_bandpass_filter(data, lowcut, highcut, fs, order=5):\n",
        "    b, a = butter_bandpass(lowcut, highcut, fs, order=order)\n",
        "    y = filtfilt(b, a, data)\n",
        "    return y\n",
        "\n",
        "def instantaneous(df, col1, col2, do_print):\n",
        "  lowcut  = .01\n",
        "  highcut = .5\n",
        "  fs = 30.\n",
        "  order = 1\n",
        "  d1 = df[col1].interpolate().values\n",
        "  d2 = df[col1].interpolate().values\n",
        "  y1 = butter_bandpass_filter(d1,lowcut=lowcut,highcut=highcut,fs=fs,order=order)\n",
        "  y2 = butter_bandpass_filter(d2,lowcut=lowcut,highcut=highcut,fs=fs,order=order)\n",
        "\n",
        "  al1 = np.angle(hilbert(y1),deg=False)\n",
        "  al2 = np.angle(hilbert(y2),deg=False)\n",
        "  phase_synchrony = 1-np.sin(np.abs(al1-al2)/2)\n",
        "  N = len(al1)\n",
        "  print(d1)\n",
        "  print(d2)\n",
        "  print(y1)\n",
        "  print(y1)\n",
        "  print(al1)\n",
        "  print(al2)\n",
        "  # Plot results\n",
        "  if do_print==True:\n",
        "    f,ax = plt.subplots(3,1,figsize=(14,7),sharex=True)\n",
        "    ax[0].plot(y1,color='r',label='y1')\n",
        "    ax[0].plot(y2,color='b',label='y2')\n",
        "    ax[0].legend(bbox_to_anchor=(0., 1.02, 1., .102),ncol=2)\n",
        "    ax[0].set(xlim=[0,N], title='Filtered Timeseries Data')\n",
        "    ax[1].plot(al1,color='r')\n",
        "    ax[1].plot(al2,color='b')\n",
        "    ax[1].set(ylabel='Angle',title='Angle at each Timepoint',xlim=[0,N])\n",
        "    phase_synchrony = 1-np.sin(np.abs(al1-al2)/2)\n",
        "    ax[2].plot(phase_synchrony)\n",
        "    ax[2].set(ylim=[0,1.1],xlim=[0,N],title='Instantaneous Phase Synchrony',xlabel='Time',ylabel='Phase Synchrony')\n",
        "    plt.tight_layout()\n",
        "    plt.show()"
      ],
      "execution_count": 0,
      "outputs": []
    },
    {
      "cell_type": "markdown",
      "metadata": {
        "id": "lGkMsv_kABRm",
        "colab_type": "text"
      },
      "source": [
        "**Pearson Coefficient**\n"
      ]
    },
    {
      "cell_type": "code",
      "metadata": {
        "id": "031whf5pAF42",
        "colab_type": "code",
        "colab": {}
      },
      "source": [
        "pearson_dict = dict(pearson_value=0)\n",
        "for i in df.columns:\n",
        "#i='Ciudad Real'\n",
        "  for j in df.columns:\n",
        "    if(i!=j):\n",
        "      pearson_val = pearson(df,i,j,False)\n",
        "      pearson_val= np.abs(pearson_val)\n",
        "      if(pearson_dict['pearson_value'] < pearson_val):\n",
        "        pearson_dict= dict(pearson_value=pearson_val, i_value=i, j_value=j)\n",
        "      \n",
        "print(pearson_dict)\n",
        "\n",
        "\n",
        "#windowed(df,col1,col2)\n"
      ],
      "execution_count": 0,
      "outputs": []
    },
    {
      "cell_type": "markdown",
      "metadata": {
        "id": "VTKarqTCzS9I",
        "colab_type": "text"
      },
      "source": [
        "**Dynamic Time Warping**"
      ]
    },
    {
      "cell_type": "code",
      "metadata": {
        "id": "4JXG5MRdxIBm",
        "colab_type": "code",
        "colab": {}
      },
      "source": [
        "dtw_dict=dict(dtw_value=0)\n",
        "for i in df.columns:\n",
        "#i='Ciudad Real'\n",
        "  for j in df.columns:\n",
        "    if(i!=j):\n",
        "      dtw_val = dinamicTime(df,col1,col2,False)\n",
        "      if(dtw_dict['dtw_value'] < dtw_val):\n",
        "        dtw_dict= dict(dtw_value=dtw_val, i_value=i, j_value=j)\n",
        "\n",
        "print(dtw_dict)"
      ],
      "execution_count": 0,
      "outputs": []
    },
    {
      "cell_type": "markdown",
      "metadata": {
        "id": "CBd-id_k0QgL",
        "colab_type": "text"
      },
      "source": [
        "**Instantaneous Phase Synchrony** NO FUNCIONA"
      ]
    },
    {
      "cell_type": "code",
      "metadata": {
        "id": "RR4K3Wb-yPZb",
        "colab_type": "code",
        "colab": {}
      },
      "source": [
        "col1='Ciudad Real'\n",
        "col2='Toledo'\n",
        "instantaneous(df,col1,col2,False)"
      ],
      "execution_count": 0,
      "outputs": []
    },
    {
      "cell_type": "markdown",
      "metadata": {
        "id": "RzLvElAW3E39",
        "colab_type": "text"
      },
      "source": [
        "**Time Lagged** NO FUNCIONA"
      ]
    },
    {
      "cell_type": "code",
      "metadata": {
        "id": "lvriPzkM3GSO",
        "colab_type": "code",
        "colab": {}
      },
      "source": [
        "col1='Albacete'\n",
        "col2='Toledo'\n",
        "timeLagged(df,col1,col2,True)"
      ],
      "execution_count": 0,
      "outputs": []
    },
    {
      "cell_type": "markdown",
      "metadata": {
        "id": "m4RIMm_65utF",
        "colab_type": "text"
      },
      "source": [
        "**Windowed time lagged Cross Correlation** NO FUNCIONA"
      ]
    },
    {
      "cell_type": "code",
      "metadata": {
        "id": "t93u3RA55vUd",
        "colab_type": "code",
        "colab": {}
      },
      "source": [
        "col1='Albacete'\n",
        "col2='Toledo'\n",
        "windowed(df,col1,col2)"
      ],
      "execution_count": 0,
      "outputs": []
    }
  ]
}