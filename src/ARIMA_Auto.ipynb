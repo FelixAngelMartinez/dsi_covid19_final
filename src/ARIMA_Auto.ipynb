{
  "nbformat": 4,
  "nbformat_minor": 0,
  "metadata": {
    "colab": {
      "name": "Felix_Auto-ARIMA.ipynb",
      "provenance": [],
      "private_outputs": true,
      "collapsed_sections": []
    },
    "kernelspec": {
      "name": "python3",
      "display_name": "Python 3"
    }
  },
  "cells": [
    {
      "cell_type": "markdown",
      "metadata": {
        "id": "uYlCSJDCP_zR",
        "colab_type": "text"
      },
      "source": [
        "# COVID-19 for prediction in Castilla la Mancha\n",
        "Notebook realizado para el **Máster en Ingeniería Informática** de la Universidad de Castilla la Mancha, para la asignatura Desarrollo de Sistemas Inteligentes.<br/>\n",
        "En dicho Notebook se realizará una serie de predicciones empleando ARIMA (*autoregressive integrated moving average*), enfocado a la investigación del **COVID-19**, causada por el virus **SARS-CoV-2**, sobre la población de **Castilla la Mancha**, y más específicamente sobre los hospitales de la región.<br/>\n",
        "El motivo del análisis de la predicción en un ámbito más localizado ha sido elegido por los autores para la ayuda a la estimación de recursos tanto médicos como materiales para hacer frente a dicha enfermedad aportando las herramientas que nos aportan las nuevas tecnologías en la ayuda a la predicción de datos.<br/>\n",
        "Realizado por:\n",
        "\n",
        "\n",
        "*   Félix Ángel Martínez Muela\n",
        "*   Miguel de la Cal Bravo\n",
        "\n"
      ]
    },
    {
      "cell_type": "code",
      "metadata": {
        "id": "EbRvdSj5Zpbt",
        "colab_type": "code",
        "colab": {}
      },
      "source": [
        "import pandas as pd\n",
        "from matplotlib import pyplot as plt\n",
        "import numpy as np\n",
        "\n",
        "!pip install pmdarima\n",
        "!pip install statsmodels --upgrade"
      ],
      "execution_count": 0,
      "outputs": []
    },
    {
      "cell_type": "markdown",
      "metadata": {
        "id": "jxLpnRdkSkHn",
        "colab_type": "text"
      },
      "source": [
        "Importamos a nuestro entorno de ejecución en Google Colab nuestro dataset, en este caso hospitalizados, aunque valdría cualquiera de los presentes en la carpeta data/ ."
      ]
    },
    {
      "cell_type": "code",
      "metadata": {
        "id": "hGO6l4AMZwkj",
        "colab_type": "code",
        "colab": {}
      },
      "source": [
        "from google.colab import files\n",
        "uploaded = files.upload()"
      ],
      "execution_count": 0,
      "outputs": []
    },
    {
      "cell_type": "markdown",
      "metadata": {
        "id": "3TaTSDK7Vrjy",
        "colab_type": "text"
      },
      "source": [
        "Tratamiento from CSV to Data Frame\n",
        "\n",
        "1.   Carga del fichero.\n",
        "2.   Ajuste del nombre de las comunas.\n",
        "3.   Conversión de los tipos.\n",
        "4.   Relleno con 0 los valores anteriores al primer dato.\n",
        "5.   Interpolación lineal con los datos que faltan entre días (fin de semana sin datos etc)."
      ]
    },
    {
      "cell_type": "code",
      "metadata": {
        "id": "fElNmNNzZyFQ",
        "colab_type": "code",
        "colab": {}
      },
      "source": [
        "df = pd.read_csv('hospitalizados.csv',encoding = \"ISO-8859-1\", index_col=0, header=None).T  # Lectura del fichero de entrada y transpuesta del mismo\n",
        "df = df.rename(columns={'Fecha': 'Date'}) # Ajuste del nombre de las columnas\n",
        "df['Date']= pd.to_datetime(df['Date']) # Conversión a tipo fecha\n",
        "df.set_index('Date', inplace=True) # La columna Fechas como índice\n",
        "df=df.apply(pd.to_numeric) # Hacer que los tipos de datos sean numéricos\n",
        "df = df.sort_values('Date') # Ordenar en función de la fecha\n",
        "df=df.interpolate('zero', fill_value=0, limit_direction='backward') # A 0 los primeros valores antes de un número\n",
        "df=df.interpolate(method='linear', axis=0).ffill().bfill() # Valores intermedios los interpolas\n",
        "df"
      ],
      "execution_count": 0,
      "outputs": []
    },
    {
      "cell_type": "markdown",
      "metadata": {
        "id": "0_D6ColJZ7Zc",
        "colab_type": "text"
      },
      "source": [
        "# Auto-ARIMA<br/>\n",
        "Definición de auto_arima:\n",
        "Como parámetros de entrada, se le pasa el **dataset** ya corregido y luego se puede indicar el **número de periódos a predecir**, o si no se indica se toma el valor por defecto de  30 días.<br/>\n",
        "La función tiene unos parámetros que pueden ser modificados si queremos que la función baraje la posibilidad de otros valores para la p y la q.\n"
      ]
    },
    {
      "cell_type": "code",
      "metadata": {
        "id": "6sTd0ujvaDxT",
        "colab_type": "code",
        "colab": {}
      },
      "source": [
        "from statsmodels.tsa.arima_model import ARIMA\n",
        "import pmdarima as pm\n",
        "\n",
        "def auto_arima(df,n_periods=30):\n",
        "  model = pm.auto_arima(df, start_p=1, start_q=1,\n",
        "                      test='adf',       # use adftest to find optimal 'd'\n",
        "                      max_p=3, max_q=3, # maximum p and q\n",
        "                      m=1,              # frequency of series\n",
        "                      d=None,           # let model determine 'd'\n",
        "                      seasonal=False,   # No Seasonality\n",
        "                      start_P=0, \n",
        "                      D=0, \n",
        "                      trace=True,\n",
        "                      error_action='ignore',  \n",
        "                      suppress_warnings=True, \n",
        "                      stepwise=True)\n",
        "\n",
        "  #print(model.summary())\n",
        "  fc, confint = model.predict(n_periods=n_periods, return_conf_int=True)\n",
        "  return fc,model,confint"
      ],
      "execution_count": 0,
      "outputs": []
    },
    {
      "cell_type": "markdown",
      "metadata": {
        "id": "Sw6ZyYDzgANO",
        "colab_type": "text"
      },
      "source": [
        "**Plot ARIMA**<br/>\n",
        "Definimos una función para la realización de plots de manera que mostraremos los valores hasta el día de hoy, y añadiremos en verde las predicciones futuras complementadas de manera sombreada los posibles valores dentro del intervalo de confianza."
      ]
    },
    {
      "cell_type": "code",
      "metadata": {
        "id": "TMfNPHH2fbWE",
        "colab_type": "code",
        "colab": {}
      },
      "source": [
        "!mkdir img/\n",
        "def plot_arima(name,df,lower_series,upper_series):\n",
        "  # Plot\n",
        "  plt.plot(df)\n",
        "  plt.plot(fc_series, color='darkgreen')\n",
        "  plt.fill_between(lower_series.index, \n",
        "                 lower_series, \n",
        "                 upper_series, \n",
        "                 color='k', alpha=.15)\n",
        "\n",
        "  plt.title(\"Forecasting of \"+name)\n",
        "  plt.ylim(df.min(), df.max())\n",
        "  plt.xticks(rotation=90)  \n",
        "  plt.savefig('img/'+name+'.jpg', bbox_inches='tight')\n",
        "  plt.show()\n"
      ],
      "execution_count": 0,
      "outputs": []
    },
    {
      "cell_type": "markdown",
      "metadata": {
        "id": "0YPK1LE1Zja2",
        "colab_type": "text"
      },
      "source": [
        "**Save** ARIMA model and **Plot** it<br/>\n"
      ]
    },
    {
      "cell_type": "code",
      "metadata": {
        "id": "bVfHRO9zZmsC",
        "colab_type": "code",
        "colab": {}
      },
      "source": [
        "!mkdir models/\n",
        "def save_model_to_file(name,model):\n",
        "  #Save model\n",
        "  with open('models/model_'+name+'.txt', 'w') as f:\n",
        "    print(model.summary(),file=f)\n",
        "\n",
        "def plot_model(name,model):\n",
        "  model.plot_diagnostics(figsize=(7,5))\n",
        "  plt.savefig('models/model_'+name+'_plot.jpg', bbox_inches='tight')\n",
        "  plt.show()"
      ],
      "execution_count": 0,
      "outputs": []
    },
    {
      "cell_type": "markdown",
      "metadata": {
        "id": "D-Wz8CoKXiCN",
        "colab_type": "text"
      },
      "source": [
        "**Bucle principal**, donde iteramos sobre las columnas del dataframe y por tanto de los hospitales de Castilla la Mancha:\n",
        "1.   Extraemos el dataframe relativo a un hospital.\n",
        "2.   Llamamos a ARIMA, pasandole el hospital a analizar y el número de días vista a predecir.\n",
        "3.   Creamos las series temporales con los datos de la predicción, con un índice de las fechas de las predicciones hasta ese día y de manera automática.\n",
        "4.   Guardamos en un diccionario los modelos y predicciones, para futuras consultas.\n",
        "5.   Creamos el plot de la prediccion llamando a plot_arima.\n",
        "6.   Guardamos el modelo y sus plots relativos, llamando a save_model_to_file y a plot_model.\n",
        "7.   Creamos un dataframe con todas las predicciones de todos los hospitales.\n",
        "8.   Eliminamos del dataframe total todas aquellas predicciones negativas, ya que no es posible que haya hospitalizados negativos en este caso.\n",
        "\n"
      ]
    },
    {
      "cell_type": "code",
      "metadata": {
        "id": "7kbDS1nFZzfq",
        "colab_type": "code",
        "colab": {}
      },
      "source": [
        "import datetime\n",
        "models_dic= {}    \n",
        "forecasting_dic={}\n",
        "all_fc_series=[]\n",
        "df_prediction = pd.DataFrame(data=None, columns=df.columns, index=df.index)\n",
        "\n",
        "for column in df:\n",
        "  #Split df in columns\n",
        "  df_col = df.loc[:,column]\n",
        "  #Auto Arima\n",
        "  n_periods=24\n",
        "  start_index=df.index[-1]+datetime.timedelta(days=1)\n",
        "  fc_col, model_col, confint_col = auto_arima(df_col,n_periods)  \n",
        "\n",
        "  #Series\n",
        "  index_of_fc= pd.date_range(start=start_index, periods=n_periods, freq='D')\n",
        "  fc_series = pd.Series(fc_col, index=index_of_fc)\n",
        "  fc_series = fc_series.rename(column)\n",
        "  all_fc_series.append(fc_series)\n",
        "  lower_series = pd.Series(confint_col[:, 0], index=index_of_fc)\n",
        "  upper_series = pd.Series(confint_col[:, 1], index=index_of_fc) \n",
        "\n",
        "  #Dictionaries\n",
        "  models_dic[column]=model_col\n",
        "  forecasting_dic[column]=fc_series\n",
        "\n",
        "  #Plot\n",
        "  plot_arima(column,df_col,lower_series,upper_series)\n",
        "\n",
        "  #Saving model and plot it\n",
        "  save_model_to_file(column,model_col)\n",
        "  plot_model(column,model_col)\n",
        "  \n",
        "#Create a dataframe with all the forecastings\n",
        "df_prediction = pd.DataFrame(all_fc_series).T\n",
        "\n",
        "#Avoid negative predictions, because it is not possible in this dataset\n",
        "df_prediction = df_prediction.clip(lower=0)\n"
      ],
      "execution_count": 0,
      "outputs": []
    },
    {
      "cell_type": "markdown",
      "metadata": {
        "id": "s2XA2bbKDnWA",
        "colab_type": "text"
      },
      "source": [
        "**Estado final** de las predicciones.<br/>\n",
        "Como podemos observar se llama a info() para que nos indique la estructura del dataframe y también llamamos después al propio dataframe para ver los resultados finales."
      ]
    },
    {
      "cell_type": "code",
      "metadata": {
        "id": "wYTA-ROzcwGB",
        "colab_type": "code",
        "colab": {}
      },
      "source": [
        "df_prediction.info()\n",
        "df_prediction"
      ],
      "execution_count": 0,
      "outputs": []
    },
    {
      "cell_type": "markdown",
      "metadata": {
        "id": "A0pPW20OyZDJ",
        "colab_type": "text"
      },
      "source": [
        "Unión de los datos actuales y las predicciones."
      ]
    },
    {
      "cell_type": "code",
      "metadata": {
        "id": "rVc2D1ZxyX-q",
        "colab_type": "code",
        "colab": {}
      },
      "source": [
        "frames = [df, df_prediction]\n",
        "\n",
        "df_new = pd.concat(frames)"
      ],
      "execution_count": 0,
      "outputs": []
    },
    {
      "cell_type": "markdown",
      "metadata": {
        "id": "JF7Cd4dLCq67",
        "colab_type": "text"
      },
      "source": [
        "**Exportamos los datos** de las predicciones a excel (.csv)\n",
        "\n",
        "*   Predicciones unico csv.\n",
        "*   Predicciones por hospital.\n",
        "*   Predicciones y datos de entrada.\n",
        "\n",
        "De esta manera hemos conseguido tener ambos tipos de predicciones para poder compartirlas en función de las necesidades del destinatario, ya que si dichas predicciones se las queremos enviar a un hospital directamente, quizás no quieran tener más predicciones más hallá de las suyas.\n",
        "\n"
      ]
    },
    {
      "cell_type": "code",
      "metadata": {
        "id": "Eji_yPkDAw3a",
        "colab_type": "code",
        "colab": {}
      },
      "source": [
        "!mkdir pred/\n",
        "df_prediction.to_csv('pred/fc_series.csv', encoding='ISO-8859-1')\n",
        "for column in df:\n",
        "  df_col = df_prediction.loc[:,column]\n",
        "  df_col.to_csv('pred/fc_series_'+column+'.csv', encoding='ISO-8859-1')\n",
        "df_new.to_csv('pred/df_new.csv', encoding='ISO-8859-1')"
      ],
      "execution_count": 0,
      "outputs": []
    },
    {
      "cell_type": "markdown",
      "metadata": {
        "id": "tqj-BpFai4Jb",
        "colab_type": "text"
      },
      "source": [
        "Descargamos los archivos a nuestro equipo<br/>\n",
        "Si nos da un fallo, debemos irnos a la url de google chrome \"chrome://settings/content/cookies\" y añadir \"colab.research.google.com\""
      ]
    },
    {
      "cell_type": "code",
      "metadata": {
        "id": "ZMgPXU7bi3i_",
        "colab_type": "code",
        "colab": {}
      },
      "source": [
        "#!zip -r /content/img.zip /content/img\n",
        "!zip -r img.zip img\n",
        "!zip -r models.zip models\n",
        "!zip -r pred.zip pred\n",
        "from google.colab import files\n",
        "files.download(\"img.zip\")\n",
        "files.download(\"models.zip\")\n",
        "files.download(\"pred.zip\")"
      ],
      "execution_count": 0,
      "outputs": []
    },
    {
      "cell_type": "markdown",
      "metadata": {
        "id": "Styxs7UwdF8c",
        "colab_type": "text"
      },
      "source": [
        "Como conclusiones encontramos una estructura de directorios finales:\n",
        "\n",
        "\n",
        "*   **img/**: tenemos las imágenes resultantes de las predicciones, empezando con el dataframe original, y continuando con las predicciones y sus intervalos de confianza.\n",
        "*   **models/**: tenemos la descripción de los modelos y las gráficas de los modelos empleadas para cada predicción.\n",
        "*   **pred/**: tenemos una predicción global y las predicciones individuales, todas en formato excel.\n",
        "\n"
      ]
    }
  ]
}